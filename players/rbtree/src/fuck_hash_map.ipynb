{
 "cells": [
  {
   "cell_type": "code",
   "execution_count": 424,
   "source": [
    "import requests\n",
    "import time\n",
    "\n",
    "url = \"http://202.38.93.111:10048/phrases?token=\"\n",
    "# url = \"http://localhost:8080/phrases\"\n",
    "\n",
    "phrases = \"\"\"\n",
    "[\n",
    "    brush work demand north, care review story wait, chemistry will spend nothing, coast flight program idea, debate official plan math, equipment break research plant, following bank market click, following context analysis company, following secret change marriage, freedom film spend great, gift mouse wood literature, guard tool outside original,\n",
    "    area future bird standard, bank direction location kind, cell boss work road, bird bank term photo, commercial title green object,\n",
    "    account customer name today, association report simple balance,\n",
    "    benefit review natural apartment, body help woman show, marriage income hope dealer,\n",
    "    alternative move scale watch, anything maybe case water,\n",
    "    account marketing situation creative, answer show love philosophy,\n",
    "    demand site debate minute, might effect natural writing,\n",
    "    bird film exercise wood, classic lift teach date,\n",
    "    brain boyfriend choice house, location spread handle taste\n",
    "]\n",
    "\"\"\".replace('\\n', '')\n",
    "\n",
    "requests.delete(url)\n",
    "\n",
    "while time.time() - int(time.time()) <= 0.998:\n",
    "    time.sleep(0.0001)\n",
    "\n",
    "start = time.time()\n",
    "print(requests.post(url, phrases).text)\n",
    "time.time() - start"
   ],
   "outputs": [
    {
     "output_type": "stream",
     "name": "stdout",
     "text": [
      "{\n",
      "  \"flag2\": \"flag{differen7-key5-h45h-m4p-c011i5i0n-f3448294418f7f1f}\",\n",
      "  \"modified\": 32,\n",
      "  \"flag1\": \"flag{h45h-m4p-c011i5i0n-0f-key-inpu75-81707c29c941e32a}\",\n",
      "  \"user\": \"2408\"\n",
      "}\n"
     ]
    },
    {
     "output_type": "execute_result",
     "data": {
      "text/plain": [
       "10.437883615493774"
      ]
     },
     "metadata": {},
     "execution_count": 424
    }
   ],
   "metadata": {}
  }
 ],
 "metadata": {
  "orig_nbformat": 4,
  "language_info": {
   "name": "python",
   "version": "3.8.12",
   "mimetype": "text/x-python",
   "codemirror_mode": {
    "name": "ipython",
    "version": 3
   },
   "pygments_lexer": "ipython3",
   "nbconvert_exporter": "python",
   "file_extension": ".py"
  },
  "kernelspec": {
   "name": "python3",
   "display_name": "Python 3.8.12 64-bit ('hackergame': conda)"
  },
  "interpreter": {
   "hash": "c42898c533be1231f41f265937cddb2059f7ad207f43c329362e49d10571e0a2"
  }
 },
 "nbformat": 4,
 "nbformat_minor": 2
}