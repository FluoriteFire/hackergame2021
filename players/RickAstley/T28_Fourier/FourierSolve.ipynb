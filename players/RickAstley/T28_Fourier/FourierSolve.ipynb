{
 "cells": [
  {
   "cell_type": "code",
   "execution_count": 1,
   "id": "fb375783",
   "metadata": {},
   "outputs": [],
   "source": [
    "import numpy as np\n",
    "from matplotlib import pyplot as plt\n",
    "from PIL import Image, ImageSequence\n",
    "import librosa\n",
    "import soundfile as sf\n",
    "\n",
    "img = Image.open('flag.gif')\n",
    "frames = np.array([np.array(frame.copy().convert('RGB').getdata(),dtype=np.uint8).reshape(frame.size[1],frame.size[0],3) for frame in ImageSequence.Iterator(img)])"
   ]
  },
  {
   "cell_type": "code",
   "execution_count": 2,
   "id": "3c4351d4",
   "metadata": {},
   "outputs": [
    {
     "data": {
      "text/plain": [
       "<matplotlib.image.AxesImage at 0x156255b0>"
      ]
     },
     "execution_count": 2,
     "metadata": {},
     "output_type": "execute_result"
    },
    {
     "data": {
      "image/png": "[encoded data removed]",
      "text/plain": [
       "<Figure size 432x288 with 1 Axes>"
      ]
     },
     "metadata": {
      "needs_background": "light"
     },
     "output_type": "display_data"
    }
   ],
   "source": [
    "plt.imshow(frames[100])"
   ]
  },
  {
   "cell_type": "code",
   "execution_count": 3,
   "id": "5c4ce446",
   "metadata": {},
   "outputs": [],
   "source": [
    "num_freqs = 32\n",
    "quantize = 2\n",
    "min_db = -60\n",
    "max_db = 30\n",
    "fft_window_size = 2048\n",
    "frame_step_size = 512\n",
    "window_function_type = 'hann'\n",
    "red_pixel = [255, 0, 0]\n",
    "white_pixel = [255, 255, 255]\n",
    "dblist = list(range(-60, 31, 2))\n",
    "sample_rate = 22050"
   ]
  },
  {
   "cell_type": "code",
   "execution_count": 4,
   "id": "bd19b81f",
   "metadata": {},
   "outputs": [
    {
     "data": {
      "text/plain": [
       "<matplotlib.image.AxesImage at 0x18acc340>"
      ]
     },
     "execution_count": 4,
     "metadata": {},
     "output_type": "execute_result"
    },
    {
     "data": {
      "image/png": "[encoded data removed]",
      "text/plain": [
       "<Figure size 432x288 with 1 Axes>"
      ]
     },
     "metadata": {
      "needs_background": "light"
     },
     "output_type": "display_data"
    }
   ],
   "source": [
    "plt.imshow(frames[100][::2,::2,::1][:,1:64:2,:])"
   ]
  },
  {
   "cell_type": "code",
   "execution_count": 5,
   "id": "e05b5c88",
   "metadata": {},
   "outputs": [],
   "source": [
    "dmel = list()\n",
    "for frame in frames:\n",
    "    nframe = frame[::2,::2,::1][:,1:64:2,:]\n",
    "    nflst  = list()\n",
    "    for nfreq in range(32):\n",
    "        nfsdb = np.sum([0 if np.sum(nframe[tdb][nfreq]) == 255*3 else 1 for tdb in range(46)])\n",
    "        nfmdb = dblist[nfsdb]\n",
    "        nflst.append(nfmdb)\n",
    "    dmel.append(nflst)"
   ]
  },
  {
   "cell_type": "code",
   "execution_count": 6,
   "id": "61b6ad18",
   "metadata": {},
   "outputs": [],
   "source": [
    "fmx = np.array([np.array(dframe).transpose() for dframe in dmel], dtype='float32').transpose()"
   ]
  },
  {
   "cell_type": "code",
   "execution_count": 7,
   "id": "d5d8ff57",
   "metadata": {},
   "outputs": [
    {
     "data": {
      "text/plain": [
       "array([[-60., -60., -60., ..., -36., -42., -54.],\n",
       "       [-60., -60., -60., ..., -46., -56., -60.],\n",
       "       [-60., -60., -60., ..., -50., -56., -60.],\n",
       "       ...,\n",
       "       [-60., -60., -60., ..., -60., -60., -60.],\n",
       "       [-60., -60., -60., ..., -60., -60., -60.],\n",
       "       [-60., -60., -60., ..., -60., -60., -60.]], dtype=float32)"
      ]
     },
     "execution_count": 7,
     "metadata": {},
     "output_type": "execute_result"
    }
   ],
   "source": [
    "fmx"
   ]
  },
  {
   "cell_type": "code",
   "execution_count": 8,
   "id": "e1bb4c4d",
   "metadata": {},
   "outputs": [],
   "source": [
    "fsd = librosa.griffinlim(librosa.feature.inverse.mel_to_stft(\n",
    "    M=librosa.db_to_power(fmx),\n",
    "    sr=sample_rate\n",
    "))"
   ]
  },
  {
   "cell_type": "code",
   "execution_count": 10,
   "id": "e802f446",
   "metadata": {},
   "outputs": [],
   "source": [
    "sf.write('flag.wav', fsd, sample_rate)"
   ]
  }
 ],
 "metadata": {
  "kernelspec": {
   "display_name": "Python 3 (ipykernel)",
   "language": "python",
   "name": "python3"
  },
  "language_info": {
   "codemirror_mode": {
    "name": "ipython",
    "version": 3
   },
   "file_extension": ".py",
   "mimetype": "text/x-python",
   "name": "python",
   "nbconvert_exporter": "python",
   "pygments_lexer": "ipython3",
   "version": "3.8.5"
  }
 },
 "nbformat": 4,
 "nbformat_minor": 5
}
