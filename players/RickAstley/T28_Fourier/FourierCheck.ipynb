{
 "cells": [
  {
   "cell_type": "markdown",
   "id": "67778fb3",
   "metadata": {},
   "source": [
    "# T28 Fourier\n",
    "\n",
    "librosa + numpy"
   ]
  },
  {
   "cell_type": "code",
   "execution_count": 1,
   "id": "fde3e139",
   "metadata": {},
   "outputs": [],
   "source": [
    "# Part 1\n",
    "from array2gif import write_gif  # version: 1.0.4\n",
    "import librosa  # version: 0.8.1\n",
    "import numpy    # version: 1.19.5\n",
    "# Part 2\n",
    "from matplotlib import pyplot as plt\n",
    "import numpy as np"
   ]
  },
  {
   "cell_type": "markdown",
   "id": "84ba7c36",
   "metadata": {},
   "source": [
    "# Part 1\n",
    "\n",
    "Convert WAV to GIF"
   ]
  },
  {
   "cell_type": "code",
   "execution_count": 2,
   "id": "030fbd4a",
   "metadata": {},
   "outputs": [],
   "source": [
    "num_freqs = 32\n",
    "quantize = 2\n",
    "min_db = -60\n",
    "max_db = 30\n",
    "fft_window_size = 2048\n",
    "frame_step_size = 512\n",
    "window_function_type = 'hann'\n",
    "red_pixel = [255, 0, 0]\n",
    "white_pixel = [255, 255, 255]\n",
    "dblist = list(range(-60, 31, 2))"
   ]
  },
  {
   "cell_type": "code",
   "execution_count": 3,
   "id": "0a527fee",
   "metadata": {},
   "outputs": [],
   "source": [
    "y, sample_rate = librosa.load(\"rfx2.wav\")  # sample rate is 22050 Hz"
   ]
  },
  {
   "cell_type": "code",
   "execution_count": 4,
   "id": "d07a8329",
   "metadata": {},
   "outputs": [],
   "source": [
    "spectrogram = (numpy.around(librosa.power_to_db(librosa.feature.melspectrogram(y, sample_rate, n_mels=num_freqs,\n",
    "               n_fft=fft_window_size, hop_length=frame_step_size, window=window_function_type)) / quantize) * quantize)"
   ]
  },
  {
   "cell_type": "code",
   "execution_count": 5,
   "id": "404c8934",
   "metadata": {},
   "outputs": [
    {
     "name": "stdout",
     "output_type": "stream",
     "text": [
      "Size[0] 32\n",
      "Size[1] 115\n"
     ]
    }
   ],
   "source": [
    "print(\"Size[0]\", np.size(spectrogram, 0))\n",
    "print(\"Size[1]\", np.size(spectrogram, 1))"
   ]
  },
  {
   "cell_type": "code",
   "execution_count": 6,
   "id": "bae6b520",
   "metadata": {},
   "outputs": [],
   "source": [
    "rframe = spectrogram.transpose()"
   ]
  },
  {
   "cell_type": "code",
   "execution_count": 7,
   "id": "0c25f405",
   "metadata": {},
   "outputs": [
    {
     "data": {
      "text/plain": [
       "array([-18., -30., -26.,  -8.,   0.,   6.,   8.,  -4.,  10.,  -8., -30.,\n",
       "       -24., -18., -42., -20., -16., -20., -36., -20., -22., -44., -36.,\n",
       "       -40., -36., -38., -52., -52., -52., -52., -52., -52., -52.],\n",
       "      dtype=float32)"
      ]
     },
     "execution_count": 7,
     "metadata": {},
     "output_type": "execute_result"
    }
   ],
   "source": [
    "rframe[100]"
   ]
  },
  {
   "cell_type": "code",
   "execution_count": 8,
   "id": "cb6cc8e2",
   "metadata": {},
   "outputs": [],
   "source": [
    "gif_data = [\n",
    "    numpy.kron(\n",
    "        numpy.array([\n",
    "            [\n",
    "                red_pixel if freq % 2 and round(frame[freq // 2]) > threshold else white_pixel\n",
    "                for threshold in list(range(min_db, max_db + 1, quantize))[::-1]\n",
    "            ]\n",
    "            for freq in range(num_freqs * 2 + 1)]\n",
    "        ),\n",
    "        numpy.ones([quantize, quantize, 1])\n",
    "    )\n",
    "    for frame in spectrogram.transpose()\n",
    "]"
   ]
  },
  {
   "cell_type": "code",
   "execution_count": 9,
   "id": "c0bd0473",
   "metadata": {},
   "outputs": [
    {
     "data": {
      "text/plain": [
       "115"
      ]
     },
     "execution_count": 9,
     "metadata": {},
     "output_type": "execute_result"
    }
   ],
   "source": [
    "len(gif_data)"
   ]
  },
  {
   "cell_type": "code",
   "execution_count": 10,
   "id": "3bbe4f4f",
   "metadata": {},
   "outputs": [
    {
     "name": "stdout",
     "output_type": "stream",
     "text": [
      "Size[0] 115\n",
      "Size[1] 130\n",
      "Size[2] 92\n",
      "Size[3] 3\n"
     ]
    }
   ],
   "source": [
    "print(\"Size[0]\", np.size(gif_data, 0))\n",
    "print(\"Size[1]\", np.size(gif_data, 1))\n",
    "print(\"Size[2]\", np.size(gif_data, 2))\n",
    "print(\"Size[3]\", np.size(gif_data, 3))"
   ]
  },
  {
   "cell_type": "code",
   "execution_count": 11,
   "id": "aaa88594",
   "metadata": {},
   "outputs": [
    {
     "name": "stderr",
     "output_type": "stream",
     "text": [
      "Clipping input data to the valid range for imshow with RGB data ([0..1] for floats or [0..255] for integers).\n"
     ]
    },
    {
     "data": {
      "text/plain": [
       "<matplotlib.image.AxesImage at 0x183513b8>"
      ]
     },
     "execution_count": 11,
     "metadata": {},
     "output_type": "execute_result"
    },
    {
     "data": {
      "image/png": "[encoded data removed]",
      "text/plain": [
       "<Figure size 432x288 with 1 Axes>"
      ]
     },
     "metadata": {
      "needs_background": "light"
     },
     "output_type": "display_data"
    }
   ],
   "source": [
    "plt.imshow(gif_data[100])"
   ]
  },
  {
   "cell_type": "code",
   "execution_count": 12,
   "id": "c1a2fe8f",
   "metadata": {},
   "outputs": [],
   "source": [
    "gif_data2 = [\n",
    "    numpy.array([\n",
    "        [\n",
    "            red_pixel if freq % 2 and round(frame[freq // 2]) > threshold else white_pixel\n",
    "            for threshold in list(range(min_db, max_db + 1, quantize))[::-1]\n",
    "        ]\n",
    "        for freq in range(num_freqs * 2 + 1)]\n",
    "    )\n",
    "    for frame in spectrogram.transpose()\n",
    "]"
   ]
  },
  {
   "cell_type": "code",
   "execution_count": 13,
   "id": "5f844f25",
   "metadata": {},
   "outputs": [
    {
     "data": {
      "text/plain": [
       "<matplotlib.image.AxesImage at 0x183eec88>"
      ]
     },
     "execution_count": 13,
     "metadata": {},
     "output_type": "execute_result"
    },
    {
     "data": {
      "image/png": "[encoded data removed]",
      "text/plain": [
       "<Figure size 432x288 with 1 Axes>"
      ]
     },
     "metadata": {
      "needs_background": "light"
     },
     "output_type": "display_data"
    }
   ],
   "source": [
    "plt.imshow(gif_data2[100])"
   ]
  },
  {
   "cell_type": "code",
   "execution_count": 14,
   "id": "74e63748",
   "metadata": {},
   "outputs": [],
   "source": [
    "rdata0 = [\n",
    "    numpy.array([\n",
    "        [\n",
    "            (round(frame[freq // 2]), threshold) if freq % 2 else (0, threshold)\n",
    "            for threshold in list(range(min_db, max_db + 1, quantize))[::-1]\n",
    "        ]\n",
    "        for freq in range(num_freqs * 2 + 1)\n",
    "    ])\n",
    "    for frame in spectrogram.transpose()\n",
    "]"
   ]
  },
  {
   "cell_type": "code",
   "execution_count": 15,
   "id": "409c4540",
   "metadata": {},
   "outputs": [
    {
     "name": "stdout",
     "output_type": "stream",
     "text": [
      "Size[0] 115\n",
      "Size[1] 65\n",
      "Size[2] 46\n",
      "Size[3] 2\n"
     ]
    }
   ],
   "source": [
    "print(\"Size[0]\", np.size(rdata0, 0))\n",
    "print(\"Size[1]\", np.size(rdata0, 1))\n",
    "print(\"Size[2]\", np.size(rdata0, 2))\n",
    "print(\"Size[3]\", np.size(rdata0, 3))"
   ]
  },
  {
   "cell_type": "code",
   "execution_count": 16,
   "id": "5fd5538f",
   "metadata": {},
   "outputs": [
    {
     "data": {
      "text/plain": [
       "array([[-18,  30],\n",
       "       [-18,  28],\n",
       "       [-18,  26],\n",
       "       [-18,  24],\n",
       "       [-18,  22],\n",
       "       [-18,  20],\n",
       "       [-18,  18],\n",
       "       [-18,  16],\n",
       "       [-18,  14],\n",
       "       [-18,  12],\n",
       "       [-18,  10],\n",
       "       [-18,   8],\n",
       "       [-18,   6],\n",
       "       [-18,   4],\n",
       "       [-18,   2],\n",
       "       [-18,   0],\n",
       "       [-18,  -2],\n",
       "       [-18,  -4],\n",
       "       [-18,  -6],\n",
       "       [-18,  -8],\n",
       "       [-18, -10],\n",
       "       [-18, -12],\n",
       "       [-18, -14],\n",
       "       [-18, -16],\n",
       "       [-18, -18],\n",
       "       [-18, -20],\n",
       "       [-18, -22],\n",
       "       [-18, -24],\n",
       "       [-18, -26],\n",
       "       [-18, -28],\n",
       "       [-18, -30],\n",
       "       [-18, -32],\n",
       "       [-18, -34],\n",
       "       [-18, -36],\n",
       "       [-18, -38],\n",
       "       [-18, -40],\n",
       "       [-18, -42],\n",
       "       [-18, -44],\n",
       "       [-18, -46],\n",
       "       [-18, -48],\n",
       "       [-18, -50],\n",
       "       [-18, -52],\n",
       "       [-18, -54],\n",
       "       [-18, -56],\n",
       "       [-18, -58],\n",
       "       [-18, -60]])"
      ]
     },
     "execution_count": 16,
     "metadata": {},
     "output_type": "execute_result"
    }
   ],
   "source": [
    "rdata0[100][1]"
   ]
  },
  {
   "cell_type": "code",
   "execution_count": 17,
   "id": "07dcb879",
   "metadata": {},
   "outputs": [],
   "source": [
    "rdata1 = [\n",
    "    numpy.array([\n",
    "        [\n",
    "            1 if freq % 2 and round(frame[freq // 2]) > threshold else 0\n",
    "            for threshold in list(range(min_db, max_db + 1, quantize))[::-1]\n",
    "        ]\n",
    "        for freq in range(num_freqs * 2 + 1)]\n",
    "    )\n",
    "    for frame in spectrogram.transpose()\n",
    "]"
   ]
  },
  {
   "cell_type": "code",
   "execution_count": 18,
   "id": "f9a92803",
   "metadata": {},
   "outputs": [
    {
     "name": "stdout",
     "output_type": "stream",
     "text": [
      "Size[0] 115\n",
      "Size[1] 65\n",
      "Size[2] 46\n"
     ]
    }
   ],
   "source": [
    "print(\"Size[0]\", np.size(rdata1, 0))\n",
    "print(\"Size[1]\", np.size(rdata1, 1))\n",
    "print(\"Size[2]\", np.size(rdata1, 2))"
   ]
  },
  {
   "cell_type": "code",
   "execution_count": 19,
   "id": "58ee7840",
   "metadata": {},
   "outputs": [
    {
     "data": {
      "text/plain": [
       "array([0, 0, 0, 0, 0, 0, 0, 0, 0, 0, 0, 0, 0, 0, 0, 0, 0, 0, 0, 0, 0, 0,\n",
       "       0, 0, 0, 1, 1, 1, 1, 1, 1, 1, 1, 1, 1, 1, 1, 1, 1, 1, 1, 1, 1, 1,\n",
       "       1, 1])"
      ]
     },
     "execution_count": 19,
     "metadata": {},
     "output_type": "execute_result"
    }
   ],
   "source": [
    "rdata1[100][1]"
   ]
  },
  {
   "cell_type": "code",
   "execution_count": 20,
   "id": "f157b3e2",
   "metadata": {},
   "outputs": [
    {
     "data": {
      "text/plain": [
       "46"
      ]
     },
     "execution_count": 20,
     "metadata": {},
     "output_type": "execute_result"
    }
   ],
   "source": [
    "len(rdata1[100][1])"
   ]
  },
  {
   "cell_type": "code",
   "execution_count": 21,
   "id": "523430ef",
   "metadata": {},
   "outputs": [],
   "source": [
    "t100 = np.sum([0 if np.sum(rdata1[100][1][tdb]) == 0 else 1 for tdb in range(46)])"
   ]
  },
  {
   "cell_type": "code",
   "execution_count": 22,
   "id": "fef2bc41",
   "metadata": {},
   "outputs": [
    {
     "data": {
      "text/plain": [
       "21"
      ]
     },
     "execution_count": 22,
     "metadata": {},
     "output_type": "execute_result"
    }
   ],
   "source": [
    "t100"
   ]
  },
  {
   "cell_type": "code",
   "execution_count": 23,
   "id": "6bd4aee7",
   "metadata": {},
   "outputs": [
    {
     "data": {
      "text/plain": [
       "-18"
      ]
     },
     "execution_count": 23,
     "metadata": {},
     "output_type": "execute_result"
    }
   ],
   "source": [
    "dblist[t100]"
   ]
  },
  {
   "cell_type": "code",
   "execution_count": 24,
   "id": "6a486761",
   "metadata": {},
   "outputs": [],
   "source": [
    "r100 = [np.sum([0 if np.sum(rdata1[100][tfq][tdb]) == 0 else 1 for tdb in range(46)]) for tfq in range(1,65,2)]"
   ]
  },
  {
   "cell_type": "code",
   "execution_count": 26,
   "id": "bfa988c0",
   "metadata": {},
   "outputs": [],
   "source": [
    "write_gif(gif_data, 'rfx2.gif', fps=sample_rate/frame_step_size)"
   ]
  },
  {
   "cell_type": "markdown",
   "id": "6e04d5de",
   "metadata": {},
   "source": [
    "## Part 2\n",
    "\n",
    "Convert GIF to WAV "
   ]
  },
  {
   "cell_type": "code",
   "execution_count": 27,
   "id": "71d9e0b8",
   "metadata": {},
   "outputs": [],
   "source": [
    "from PIL import Image, ImageSequence\n",
    "\n",
    "img = Image.open('rfx2.gif')\n",
    "frames = np.array([np.array(frame.copy().convert('RGB').getdata(),dtype=np.uint8).reshape(frame.size[1],frame.size[0],3) for frame in ImageSequence.Iterator(img)])"
   ]
  },
  {
   "cell_type": "code",
   "execution_count": 28,
   "id": "766e04e1",
   "metadata": {},
   "outputs": [
    {
     "data": {
      "text/plain": [
       "<matplotlib.image.AxesImage at 0x18420940>"
      ]
     },
     "execution_count": 28,
     "metadata": {},
     "output_type": "execute_result"
    },
    {
     "data": {
      "image/png": "[encoded data removed]",
      "text/plain": [
       "<Figure size 432x288 with 1 Axes>"
      ]
     },
     "metadata": {
      "needs_background": "light"
     },
     "output_type": "display_data"
    }
   ],
   "source": [
    "plt.imshow(frames[100])"
   ]
  },
  {
   "cell_type": "code",
   "execution_count": 29,
   "id": "08e2c7b4",
   "metadata": {},
   "outputs": [
    {
     "name": "stdout",
     "output_type": "stream",
     "text": [
      "Size[0] 115\n",
      "Size[1] 92\n",
      "Size[2] 130\n",
      "Size[3] 3\n"
     ]
    }
   ],
   "source": [
    "print(\"Size[0]\", np.size(frames, 0))\n",
    "print(\"Size[1]\", np.size(frames, 1))\n",
    "print(\"Size[2]\", np.size(frames, 2))\n",
    "print(\"Size[3]\", np.size(frames, 3))"
   ]
  },
  {
   "cell_type": "code",
   "execution_count": 30,
   "id": "062877b9",
   "metadata": {},
   "outputs": [
    {
     "data": {
      "text/plain": [
       "<matplotlib.image.AxesImage at 0x1b456c58>"
      ]
     },
     "execution_count": 30,
     "metadata": {},
     "output_type": "execute_result"
    },
    {
     "data": {
      "image/png": "[encoded data removed]",
      "text/plain": [
       "<Figure size 432x288 with 1 Axes>"
      ]
     },
     "metadata": {
      "needs_background": "light"
     },
     "output_type": "display_data"
    }
   ],
   "source": [
    "plt.imshow(frames[100][::2,::2,::1])"
   ]
  },
  {
   "cell_type": "code",
   "execution_count": 31,
   "id": "6cb533e5",
   "metadata": {},
   "outputs": [],
   "source": [
    "tframe = frames[100][::2,::2,::1]"
   ]
  },
  {
   "cell_type": "code",
   "execution_count": 32,
   "id": "590cf114",
   "metadata": {},
   "outputs": [
    {
     "data": {
      "text/plain": [
       "46"
      ]
     },
     "execution_count": 32,
     "metadata": {},
     "output_type": "execute_result"
    }
   ],
   "source": [
    "len(tframe)"
   ]
  },
  {
   "cell_type": "code",
   "execution_count": 33,
   "id": "fd5394ba",
   "metadata": {},
   "outputs": [],
   "source": [
    "dmel = list()\n",
    "for frame in frames:\n",
    "    nframe = frame[::2,::2,::1][:,1:64:2,:]\n",
    "    nflst  = list()\n",
    "    for nfreq in range(32):\n",
    "        nfsdb = np.sum([0 if np.sum(nframe[tdb][nfreq]) == 255*3 else 1 for tdb in range(46)])\n",
    "        nfmdb = dblist[nfsdb]\n",
    "        nflst.append(nfmdb)\n",
    "    dmel.append(nflst)"
   ]
  },
  {
   "cell_type": "code",
   "execution_count": 34,
   "id": "5acfc41c",
   "metadata": {},
   "outputs": [],
   "source": [
    "tframe1 = frames[100][::2,::2,::1][:,1:64:2,:]"
   ]
  },
  {
   "cell_type": "code",
   "execution_count": 35,
   "id": "32041fbb",
   "metadata": {},
   "outputs": [
    {
     "data": {
      "text/plain": [
       "<matplotlib.image.AxesImage at 0x1945ca48>"
      ]
     },
     "execution_count": 35,
     "metadata": {},
     "output_type": "execute_result"
    },
    {
     "data": {
      "image/png": "[encoded data removed]",
      "text/plain": [
       "<Figure size 432x288 with 1 Axes>"
      ]
     },
     "metadata": {
      "needs_background": "light"
     },
     "output_type": "display_data"
    }
   ],
   "source": [
    "plt.imshow(tframe1)"
   ]
  },
  {
   "cell_type": "code",
   "execution_count": 36,
   "id": "81d9ee08",
   "metadata": {},
   "outputs": [
    {
     "data": {
      "text/plain": [
       "array([255,   0,   0], dtype=uint8)"
      ]
     },
     "execution_count": 36,
     "metadata": {},
     "output_type": "execute_result"
    }
   ],
   "source": [
    "tframe1[40][0]"
   ]
  },
  {
   "cell_type": "code",
   "execution_count": 37,
   "id": "2b676336",
   "metadata": {},
   "outputs": [
    {
     "data": {
      "text/plain": [
       "21"
      ]
     },
     "execution_count": 37,
     "metadata": {},
     "output_type": "execute_result"
    }
   ],
   "source": [
    "np.sum([0 if np.sum(tframe1[tdb][0]) == 255*3 else 1 for tdb in range(46)])"
   ]
  },
  {
   "cell_type": "code",
   "execution_count": 38,
   "id": "2551c784",
   "metadata": {},
   "outputs": [
    {
     "data": {
      "text/plain": [
       "-2"
      ]
     },
     "execution_count": 38,
     "metadata": {},
     "output_type": "execute_result"
    }
   ],
   "source": [
    "dblist[29]"
   ]
  },
  {
   "cell_type": "code",
   "execution_count": 39,
   "id": "1ccaf4a1",
   "metadata": {},
   "outputs": [
    {
     "data": {
      "text/plain": [
       "26"
      ]
     },
     "execution_count": 39,
     "metadata": {},
     "output_type": "execute_result"
    }
   ],
   "source": [
    "np.sum([0 if np.sum(tframe1[tdb][3]) == 255*3 else 1 for tdb in range(46)])"
   ]
  },
  {
   "cell_type": "code",
   "execution_count": 40,
   "id": "c34e7c74",
   "metadata": {},
   "outputs": [
    {
     "data": {
      "text/plain": [
       "26"
      ]
     },
     "execution_count": 40,
     "metadata": {},
     "output_type": "execute_result"
    }
   ],
   "source": [
    "dblist[43]"
   ]
  },
  {
   "cell_type": "code",
   "execution_count": 41,
   "id": "38a6ad1a",
   "metadata": {},
   "outputs": [
    {
     "name": "stdout",
     "output_type": "stream",
     "text": [
      "Freq:0 DB:-18\n",
      "Freq:1 DB:-30\n",
      "Freq:2 DB:-26\n",
      "Freq:3 DB:-8\n",
      "Freq:4 DB:0\n",
      "Freq:5 DB:6\n",
      "Freq:6 DB:8\n",
      "Freq:7 DB:-4\n",
      "Freq:8 DB:10\n",
      "Freq:9 DB:-8\n",
      "Freq:10 DB:-30\n",
      "Freq:11 DB:-24\n",
      "Freq:12 DB:-18\n",
      "Freq:13 DB:-42\n",
      "Freq:14 DB:-20\n",
      "Freq:15 DB:-16\n",
      "Freq:16 DB:-20\n",
      "Freq:17 DB:-36\n",
      "Freq:18 DB:-20\n",
      "Freq:19 DB:-22\n",
      "Freq:20 DB:-44\n",
      "Freq:21 DB:-36\n",
      "Freq:22 DB:-40\n",
      "Freq:23 DB:-36\n",
      "Freq:24 DB:-38\n",
      "Freq:25 DB:-52\n",
      "Freq:26 DB:-52\n",
      "Freq:27 DB:-52\n",
      "Freq:28 DB:-52\n",
      "Freq:29 DB:-52\n",
      "Freq:30 DB:-52\n",
      "Freq:31 DB:-52\n"
     ]
    }
   ],
   "source": [
    "for nfreq in range(32):\n",
    "    print(\"Freq:%d DB:%d\" % (nfreq, dblist[np.sum([0 if np.sum(tframe1[tdb][nfreq]) == 255*3 else 1 for tdb in range(46)])]))"
   ]
  },
  {
   "cell_type": "code",
   "execution_count": 42,
   "id": "c2f709c3",
   "metadata": {},
   "outputs": [],
   "source": [
    "n100 = [np.sum([1 if np.sum(tframe1[tdb][tfq]) == 255 else 0 for tdb in range(46)]) for tfq in range(32)]"
   ]
  },
  {
   "cell_type": "code",
   "execution_count": 43,
   "id": "d346abec",
   "metadata": {},
   "outputs": [
    {
     "data": {
      "text/plain": [
       "array([0, 0, 0, 0, 0, 0, 0, 0, 0, 0, 0, 0, 0, 0, 0, 0, 0, 0, 0, 0, 0, 0,\n",
       "       0, 0, 0, 0, 0, 0, 0, 0, 0, 0])"
      ]
     },
     "execution_count": 43,
     "metadata": {},
     "output_type": "execute_result"
    }
   ],
   "source": [
    "np.subtract(n100, r100)"
   ]
  },
  {
   "cell_type": "code",
   "execution_count": 44,
   "id": "f8427928",
   "metadata": {},
   "outputs": [],
   "source": [
    "bsg = np.array([np.array(dframe).transpose() for dframe in dmel], dtype='float32').transpose()"
   ]
  },
  {
   "cell_type": "code",
   "execution_count": 45,
   "id": "8331867b",
   "metadata": {},
   "outputs": [
    {
     "data": {
      "text/plain": [
       "0.0"
      ]
     },
     "execution_count": 45,
     "metadata": {},
     "output_type": "execute_result"
    }
   ],
   "source": [
    "np.sum(np.subtract(bsg, spectrogram))"
   ]
  },
  {
   "cell_type": "code",
   "execution_count": 46,
   "id": "0a8bf697",
   "metadata": {},
   "outputs": [],
   "source": [
    "snd = librosa.feature.inverse.mel_to_stft(\n",
    "    M=librosa.db_to_power(bsg),\n",
    "    sr=sample_rate\n",
    ")"
   ]
  },
  {
   "cell_type": "code",
   "execution_count": 47,
   "id": "e38d154e",
   "metadata": {},
   "outputs": [],
   "source": [
    "import soundfile as sf\n",
    "sf.write('sfx2.wav', librosa.griffinlim(snd), sample_rate)"
   ]
  }
 ],
 "metadata": {
  "kernelspec": {
   "display_name": "Python 3 (ipykernel)",
   "language": "python",
   "name": "python3"
  },
  "language_info": {
   "codemirror_mode": {
    "name": "ipython",
    "version": 3
   },
   "file_extension": ".py",
   "mimetype": "text/x-python",
   "name": "python",
   "nbconvert_exporter": "python",
   "pygments_lexer": "ipython3",
   "version": "3.8.5"
  }
 },
 "nbformat": 4,
 "nbformat_minor": 5
}
