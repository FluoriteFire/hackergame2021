{
 "cells": [
  {
   "cell_type": "code",
   "execution_count": 1,
   "id": "minimal-performer",
   "metadata": {},
   "outputs": [],
   "source": [
    "from Crypto.Util.number import *\n",
    "import sympy, gmpy2"
   ]
  },
  {
   "cell_type": "code",
   "execution_count": 2,
   "id": "passive-confirmation",
   "metadata": {},
   "outputs": [],
   "source": [
    "def p_prime(p):\n",
    "    while 1:\n",
    "        p=p-2\n",
    "        if(sympy.isprime(p)):\n",
    "            return p"
   ]
  },
  {
   "cell_type": "code",
   "execution_count": 3,
   "id": "be97ef6e",
   "metadata": {},
   "outputs": [],
   "source": [
    "Qv = [0 for i in range(10)]\n",
    "Qv[-1] = 80096058210213458444437404275177554701604739094679033012396452382975889905967\n",
    "valueQ = 5591130088089053683141520294620171646179623062803708281023766040254675625012293743465254007970358536660934858789388093688621793201658889399155357407224541324547522479617669812322262372851929223461622559971534394847970366311206823328200747893961649255426063204482192349202005330622561575868946656570678176047822163692259375233925446556338917358118222905050574458037965803154233167594946713038301249145097770337253930655681648299249481985768272321820718607757023350742647019762122572886601905212830744868048802864679734428398229280780215896045509020793530842541217790352661324630048261329493088812057300480085895399922301827190211956061083460036781018660201163819104150988531352228650991733072010425499238731811243310625701946882701082178190402011133439065106720309788819\n",
    "for i in range(9,0,-1):\n",
    "    Qv[i-1] = p_prime(Qv[i])"
   ]
  },
  {
   "cell_type": "code",
   "execution_count": 4,
   "id": "901b94a0",
   "metadata": {},
   "outputs": [],
   "source": [
    "base = 65537"
   ]
  },
  {
   "cell_type": "code",
   "execution_count": 6,
   "id": "f8363d82",
   "metadata": {},
   "outputs": [],
   "source": [
    "n = 1\n",
    "for i in range(10):\n",
    "    n *= Qv[i]\n",
    "phi_1 = 1\n",
    "for i in range(10):\n",
    "    phi_1*=(Qv[i]-1)\n",
    "d=gmpy2.invert(base,phi_1)\n",
    "_Q_1=pow(valueQ,d,n)\n",
    "_Q=sympy.nextprime(_Q_1)"
   ]
  },
  {
   "cell_type": "code",
   "execution_count": 7,
   "id": "c107986d",
   "metadata": {},
   "outputs": [],
   "source": [
    "def getPrime(A, B):\n",
    "    k = 1\n",
    "    for i in range(B+1, A):\n",
    "        k = (k*i)%A\n",
    "    res = (-gmpy2.invert(k,A))%A\n",
    "    return sympy.nextprime(res)"
   ]
  },
  {
   "cell_type": "code",
   "execution_count": 8,
   "id": "267a8438",
   "metadata": {},
   "outputs": [],
   "source": [
    "aP = 11124440021748127159092076861405454814981575144744508857178576572929321435002942998531420985771090167262256877805902135304112271641074498386662361391760451\n",
    "bP = 11124440021748127159092076861405454814981575144744508857178576572929321435002942998531420985771090167262256877805902135304112271641074498386662361391661439\n",
    "Pv = getPrime(aP, bP)"
   ]
  },
  {
   "cell_type": "code",
   "execution_count": 9,
   "id": "1262540c",
   "metadata": {},
   "outputs": [],
   "source": [
    "c = 110644875422336073350488613774418819991169603750711465190260581119043921549811353108399064284589038384540018965816137286856268590507418636799746759551009749004176545414118128330198437101472882906564195341277423007542422286760940374859966152871273887950174522820162832774361714668826122465471705166574184367478"
   ]
  },
  {
   "cell_type": "code",
   "execution_count": 11,
   "id": "8de7cb62",
   "metadata": {},
   "outputs": [
    {
     "name": "stdout",
     "output_type": "stream",
     "text": [
      "b'flag{CRYPT0_1s_Interesting!}'\n"
     ]
    }
   ],
   "source": [
    "phi=(Pv-1)*(_Q-1)\n",
    "D=gmpy2.invert(base,phi)\n",
    "_M=pow(c,D,Pv*_Q)\n",
    "print(long_to_bytes(_M))"
   ]
  }
 ],
 "metadata": {
  "kernelspec": {
   "display_name": "Python 3 (ipykernel)",
   "language": "python",
   "name": "python3"
  },
  "language_info": {
   "codemirror_mode": {
    "name": "ipython",
    "version": 3
   },
   "file_extension": ".py",
   "mimetype": "text/x-python",
   "name": "python",
   "nbconvert_exporter": "python",
   "pygments_lexer": "ipython3",
   "version": "3.9.7"
  }
 },
 "nbformat": 4,
 "nbformat_minor": 5
}
