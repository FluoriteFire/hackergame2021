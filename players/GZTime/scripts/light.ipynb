{
 "cells": [
  {
   "cell_type": "code",
   "execution_count": 37,
   "metadata": {},
   "outputs": [],
   "source": [
    "import numpy as np\n",
    "\n",
    "kernel = np.array([\n",
    "        [0,0,1,0,0],\n",
    "        [0,0,2,0,0],\n",
    "        [1,2,3,2,1],\n",
    "        [0,0,2,0,0],\n",
    "        [0,0,1,0,0],\n",
    "    ])\n",
    "\n",
    "target = np.array([\n",
    "    [189] * 5 + [33] * 3 + [189] * 4,\n",
    "    [189] * 3 + [33] * 3 + [189,33,44] + [189] * 3,\n",
    "    [189] * 5 + [33] * 4 + [189] * 3,\n",
    "    [189] * 5 + [33,189,33,33] + [189] * 3,\n",
    "    [189] * 3 + [33,33,189,189,33,33,33] + [189] * 2,\n",
    "    [189,134] + [33] * 2 + [189] * 4 + [33] * 2 + [189] * 2,\n",
    "    [189,144] + [33] * 2 + [189] * 4 + [33] + [189] * 3,\n",
    "    [189,142] + [33] * 2 + [189] * 4 + [33] * 3 + [189],\n",
    "    [189,100,142,33] + [189] * 4 + [33] * 3 + [189],\n",
    "    [189] + [142] * 2 + [189] * 6 + [33] + [189] * 2,\n",
    "    [189,59,142,33] + [189] * 4 + [33] + [189] * 3,\n",
    "    [189] * 2 + [33] * 2 + [189] * 8,\n",
    "]).reshape((144))\n",
    "\n",
    "coefficients = np.zeros((144,144))"
   ]
  },
  {
   "cell_type": "code",
   "execution_count": 38,
   "metadata": {},
   "outputs": [],
   "source": [
    "for x in range(12):\n",
    "    for y in range(12):\n",
    "        for dx in range(-2, 3, 1):\n",
    "            for dy in range(-2, 3, 1):\n",
    "                xx = x + dx\n",
    "                yy = y + dy\n",
    "                if xx < 0 or xx >= 12 or yy < 0 or yy >= 12:\n",
    "                    continue\n",
    "                if (tmp := kernel[dx + 2][dy + 2]) > 0:\n",
    "                    coefficients[x * 12 + y][xx * 12 + yy] = tmp"
   ]
  },
  {
   "cell_type": "code",
   "execution_count": 39,
   "metadata": {},
   "outputs": [],
   "source": [
    "for i in range(144):\n",
    "    assert(coefficients[i][i] != 0)"
   ]
  },
  {
   "cell_type": "code",
   "execution_count": 40,
   "metadata": {},
   "outputs": [],
   "source": [
    "from Crypto.Util.number import *\n",
    "\n",
    "def gauss(c, d, modulus = 256):\n",
    "    size = c.shape[0]\n",
    "    assert(c.shape[0] == c.shape[1])\n",
    "    for i in range(size - 1):\n",
    "        for j in range(i + 1, size):\n",
    "            while c[j][i] != 0:\n",
    "                t = c[j][i] // c[i][i]\n",
    "\n",
    "                c[j] = (c[j] - t * c[i]) % modulus\n",
    "                d[j] = (d[j] - t * d[i]) % modulus\n",
    "\n",
    "                if c[j][i] != 0:\n",
    "                    c[[i, j]] = c[[j, i]]\n",
    "                    d[[i, j]] = d[[j, i]]\n",
    "    \n",
    "    for i in range(size - 1, -1 ,-1):\n",
    "        d[i] -= sum([(c[i][j] * d[j]) % modulus for j in range(i + 1, size)])\n",
    "        d[i] %= modulus\n",
    "\n",
    "        if d[i] % c[i][i] == 0:\n",
    "            d[i] //= c[i][i]\n",
    "\n",
    "        else:\n",
    "            d[i] *= inverse(c[i][i], modulus)\n",
    "            d[i] %= modulus\n",
    "            \n",
    "    return d\n",
    "\n",
    "def verify(table, ans, expected, modulus = 256):\n",
    "    ress = []\n",
    "    for line in table:\n",
    "        res = 0\n",
    "        for x, c in zip(ans, line):\n",
    "            res += c * x\n",
    "        res %= modulus\n",
    "        ress.append(res)\n",
    "    return ress == expected.T"
   ]
  },
  {
   "cell_type": "code",
   "execution_count": 41,
   "metadata": {},
   "outputs": [
    {
     "data": {
      "text/plain": [
       "array([ True,  True,  True])"
      ]
     },
     "execution_count": 41,
     "metadata": {},
     "output_type": "execute_result"
    }
   ],
   "source": [
    "table = np.array([\n",
    "    [2,1,1],\n",
    "    [6,2,1],\n",
    "    [-2,2,1]])\n",
    "b = np.array([1,255,7])\n",
    "\n",
    "ans = gauss(table.copy(), b.copy())\n",
    "verify(table, ans, b)"
   ]
  },
  {
   "cell_type": "code",
   "execution_count": 42,
   "metadata": {},
   "outputs": [
    {
     "data": {
      "text/plain": [
       "array([ True,  True,  True,  True,  True,  True,  True,  True,  True,\n",
       "        True,  True,  True,  True,  True,  True,  True,  True,  True,\n",
       "        True,  True,  True,  True,  True,  True,  True,  True,  True,\n",
       "        True,  True,  True,  True,  True,  True,  True,  True,  True,\n",
       "        True,  True,  True,  True,  True,  True,  True,  True,  True,\n",
       "        True,  True,  True,  True,  True,  True,  True,  True,  True,\n",
       "        True,  True,  True,  True,  True,  True,  True,  True,  True,\n",
       "        True,  True,  True,  True,  True,  True,  True,  True,  True,\n",
       "        True,  True,  True,  True,  True,  True,  True,  True,  True,\n",
       "        True,  True,  True,  True,  True,  True,  True,  True,  True,\n",
       "        True,  True,  True,  True,  True,  True,  True,  True,  True,\n",
       "        True,  True,  True,  True,  True,  True,  True,  True,  True,\n",
       "        True,  True,  True,  True,  True,  True,  True,  True,  True,\n",
       "        True,  True,  True,  True,  True,  True,  True,  True,  True,\n",
       "        True,  True,  True,  True,  True,  True,  True,  True,  True,\n",
       "        True,  True,  True,  True,  True,  True,  True,  True,  True])"
      ]
     },
     "execution_count": 42,
     "metadata": {},
     "output_type": "execute_result"
    }
   ],
   "source": [
    "ans = gauss(coefficients.copy().astype('int64'), target.copy())\n",
    "verify(coefficients, ans, target)"
   ]
  },
  {
   "cell_type": "code",
   "execution_count": 43,
   "metadata": {},
   "outputs": [],
   "source": [
    "import win32api\n",
    "import win32con\n",
    "import time\n",
    "\n",
    "def click_cur(pos, times):\n",
    "    win32api.SetCursorPos(pos)\n",
    "    for _ in range(times):\n",
    "        win32api.mouse_event(win32con.MOUSEEVENTF_LEFTDOWN|win32con.MOUSEEVENTF_LEFTUP,0,0,0,0)\n",
    "\n",
    "def get_cur():\n",
    "    print('[+] waiting...',end='')\n",
    "    for i in range(5):\n",
    "        time.sleep(1)\n",
    "        print(5 - i,end='...')\n",
    "    print()\n",
    "    return win32api.GetCursorPos()\n",
    "\n",
    "def init():\n",
    "    print('[+] please place your mouse the block at (0,0) in 5s')\n",
    "    origin = get_cur()\n",
    "    print(f'[!] (0,0) at {origin}')\n",
    "    print('[+] please place your mouse the block at (0,1) in 5s')\n",
    "    now = get_cur()\n",
    "    print(f'[!] (0,1) at {now}')\n",
    "    step = now[0] - origin[0]\n",
    "    return origin, step"
   ]
  },
  {
   "cell_type": "code",
   "execution_count": 44,
   "metadata": {},
   "outputs": [],
   "source": [
    "origin, step = init()\n",
    "ans = ans.reshape((12,12))\n",
    "for i in range(12):\n",
    "    for j in range(12):\n",
    "        click_cur((origin[0] + step * j, origin[1] + step * i), ans[i][j])\n",
    "        time.sleep(0.1)"
   ]
  },
  {
   "cell_type": "code",
   "execution_count": 45,
   "metadata": {},
   "outputs": [
    {
     "data": {
      "text/plain": [
       "array([[0, 0, 0, 0, 0, 0, 0, 0, 0, 0, 0, 0],\n",
       "       [0, 0, 0, 0, 0, 0, 0, 0, 0, 0, 0, 0],\n",
       "       [0, 0, 0, 0, 0, 0, 0, 0, 0, 0, 0, 0],\n",
       "       [0, 0, 0, 0, 0, 0, 0, 0, 0, 0, 0, 0],\n",
       "       [0, 0, 0, 0, 0, 0, 0, 0, 0, 0, 0, 0],\n",
       "       [0, 0, 0, 0, 0, 0, 0, 0, 0, 0, 0, 0],\n",
       "       [0, 0, 0, 0, 0, 0, 0, 0, 0, 0, 0, 0],\n",
       "       [0, 0, 0, 0, 0, 0, 0, 0, 0, 0, 0, 0],\n",
       "       [0, 0, 0, 0, 0, 0, 0, 0, 0, 0, 0, 0],\n",
       "       [0, 0, 0, 0, 0, 0, 0, 0, 0, 0, 0, 0],\n",
       "       [0, 0, 0, 0, 0, 0, 0, 0, 0, 0, 0, 0],\n",
       "       [0, 0, 0, 0, 0, 0, 0, 0, 0, 0, 0, 0]])"
      ]
     },
     "execution_count": 45,
     "metadata": {},
     "output_type": "execute_result"
    }
   ],
   "source": [
    "from scipy import signal\n",
    "signal.convolve2d(ans.reshape((12,12)), kernel, 'same') % 256 - target.reshape((12,12))"
   ]
  },
  {
   "cell_type": "code",
   "execution_count": 46,
   "metadata": {},
   "outputs": [
    {
     "data": {
      "text/plain": [
       "array([[127,  98, 128, 120, 232, 117, 161,  82,  41, 141, 137, 137],\n",
       "       [ 54, 109,  93,   9,  44,  57,  86, 153, 197,  16, 123, 252],\n",
       "       [144,  71, 104, 156, 178, 116, 243,  99, 208, 183, 215, 139],\n",
       "       [198, 245, 136,  38,  50, 254, 254, 109, 200, 240, 175, 155],\n",
       "       [160,  54,  51,  36, 136, 153, 207, 233, 112, 207,   7,   0],\n",
       "       [ 99, 181, 100,  91, 185, 225,  25,  47,  29, 219, 155, 140],\n",
       "       [ 92, 182,   8, 210, 133,   5,  51, 229, 241, 144,  47,   7],\n",
       "       [  8, 177, 187,  46,  81, 178, 122, 255, 120, 183, 230,  95],\n",
       "       [191, 210, 167, 160, 169, 200, 229, 236, 104, 238,   8, 228],\n",
       "       [239,   2,  23, 221, 192, 105, 219, 162,  30,  11, 194, 187],\n",
       "       [235, 102, 161,  31, 191, 130, 184, 130,  43, 147, 126, 216],\n",
       "       [121, 126, 145,  97, 222, 135, 132, 150, 206,  42, 219,  38]])"
      ]
     },
     "execution_count": 46,
     "metadata": {},
     "output_type": "execute_result"
    }
   ],
   "source": [
    "ans.reshape((12,12))"
   ]
  }
 ],
 "metadata": {
  "interpreter": {
   "hash": "251c60e6eb6683ae447329cc3c2f4d94f9d2cfcdb044bd011ebc2666472da39f"
  },
  "kernelspec": {
   "display_name": "Python 3.8.12 64-bit ('base': conda)",
   "name": "python3"
  },
  "language_info": {
   "codemirror_mode": {
    "name": "ipython",
    "version": 3
   },
   "file_extension": ".py",
   "mimetype": "text/x-python",
   "name": "python",
   "nbconvert_exporter": "python",
   "pygments_lexer": "ipython3",
   "version": "3.8.12"
  },
  "orig_nbformat": 4
 },
 "nbformat": 4,
 "nbformat_minor": 2
}
