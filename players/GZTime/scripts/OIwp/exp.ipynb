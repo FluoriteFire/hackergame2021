{
 "cells": [
  {
   "cell_type": "code",
   "execution_count": 2,
   "metadata": {},
   "outputs": [],
   "source": [
    "import angr\n",
    "import claripy\n",
    "import logging\n",
    "logging.getLogger('angr').setLevel('ERROR')\n",
    "\n",
    "base = 0x400000\n",
    "\n",
    "# find addr before call the magic function\n",
    "# this hex load input to registers\n",
    "# load them to rsi, rdi\n",
    "# then call the magic function\n",
    "\n",
    "def get_addr(file):\n",
    "    bin_ = open(file, 'rb').read()\n",
    "    return bin_.find(bytes.fromhex('488b45f04883c008488B10488B45F048')) + 24"
   ]
  },
  {
   "cell_type": "code",
   "execution_count": 3,
   "metadata": {},
   "outputs": [],
   "source": [
    "def succ(state):\n",
    "    return b'Correct' in state.posix.dumps(1)\n",
    "\n",
    "def fail(state):\n",
    "    return b'Wrong' in state.posix.dumps(1)\n",
    "\n",
    "def solve(file):\n",
    "    start = base + get_addr(file)\n",
    "\n",
    "    p = angr.Project(file)\n",
    "\n",
    "    init = p.factory.blank_state(addr = start)\n",
    "\n",
    "    code1 = claripy.BVS('code1', 64)\n",
    "    code2 = claripy.BVS('code2', 64)\n",
    "\n",
    "    init.regs.rsi = code1\n",
    "    init.regs.rdi = code2\n",
    "\n",
    "    sim = p.factory.simgr(init)\n",
    "    sim.explore(find=succ, avoid=fail)\n",
    "\n",
    "    if len(sim.found) > 0:\n",
    "        res = sim.found[0]\n",
    "        a = res.solver.eval(code1)\n",
    "        b = res.solver.eval(code2)\n",
    "        result = bytes.fromhex(hex(a)[2:] + hex(b)[2:])[::-1]\n",
    "        return result\n",
    "    return 'Error!'"
   ]
  },
  {
   "cell_type": "code",
   "execution_count": 4,
   "metadata": {},
   "outputs": [
    {
     "name": "stderr",
     "output_type": "stream",
     "text": [
      "WARNING | 2021-10-26 03:17:53,923 | \u001b[36mcle.loader\u001b[0m | \u001b[36mThe main binary is a position-independent executable. It is being loaded with a base address of 0x400000.\u001b[0m\n",
      "WARNING | 2021-10-26 03:18:21,593 | \u001b[36mcle.loader\u001b[0m | \u001b[36mThe main binary is a position-independent executable. It is being loaded with a base address of 0x400000.\u001b[0m\n"
     ]
    },
    {
     "name": "stdout",
     "output_type": "stream",
     "text": [
      "b'9jM4ScT6QJB5a6gB'\n"
     ]
    },
    {
     "name": "stderr",
     "output_type": "stream",
     "text": [
      "WARNING | 2021-10-26 03:18:27,534 | \u001b[36mcle.loader\u001b[0m | \u001b[36mThe main binary is a position-independent executable. It is being loaded with a base address of 0x400000.\u001b[0m\n"
     ]
    },
    {
     "name": "stdout",
     "output_type": "stream",
     "text": [
      "b'NybuoPZYF4hshd3W'\n"
     ]
    },
    {
     "name": "stderr",
     "output_type": "stream",
     "text": [
      "WARNING | 2021-10-26 03:18:40,800 | \u001b[36mcle.loader\u001b[0m | \u001b[36mThe main binary is a position-independent executable. It is being loaded with a base address of 0x400000.\u001b[0m\n"
     ]
    },
    {
     "name": "stdout",
     "output_type": "stream",
     "text": [
      "b'Tc2xxTr5RBDMeJKW'\n"
     ]
    },
    {
     "name": "stderr",
     "output_type": "stream",
     "text": [
      "WARNING | 2021-10-26 03:18:51,269 | \u001b[36mcle.loader\u001b[0m | \u001b[36mThe main binary is a position-independent executable. It is being loaded with a base address of 0x400000.\u001b[0m\n"
     ]
    },
    {
     "name": "stdout",
     "output_type": "stream",
     "text": [
      "b'K4ndcjWaz4p7zvKM'\n"
     ]
    },
    {
     "name": "stderr",
     "output_type": "stream",
     "text": [
      "WARNING | 2021-10-26 03:19:08,588 | \u001b[36mcle.loader\u001b[0m | \u001b[36mThe main binary is a position-independent executable. It is being loaded with a base address of 0x400000.\u001b[0m\n"
     ]
    },
    {
     "name": "stdout",
     "output_type": "stream",
     "text": [
      "b'tKisqhBoqkUuS8uf'\n"
     ]
    },
    {
     "name": "stderr",
     "output_type": "stream",
     "text": [
      "WARNING | 2021-10-26 03:19:36,985 | \u001b[36mcle.loader\u001b[0m | \u001b[36mThe main binary is a position-independent executable. It is being loaded with a base address of 0x400000.\u001b[0m\n"
     ]
    },
    {
     "name": "stdout",
     "output_type": "stream",
     "text": [
      "b'iMib9Ua3C6g43xg7'\n"
     ]
    },
    {
     "name": "stderr",
     "output_type": "stream",
     "text": [
      "WARNING | 2021-10-26 03:19:56,585 | \u001b[36mcle.loader\u001b[0m | \u001b[36mThe main binary is a position-independent executable. It is being loaded with a base address of 0x400000.\u001b[0m\n"
     ]
    },
    {
     "name": "stdout",
     "output_type": "stream",
     "text": [
      "b'JwhyvToNpkx7QhsF'\n"
     ]
    },
    {
     "name": "stderr",
     "output_type": "stream",
     "text": [
      "WARNING | 2021-10-26 03:20:30,335 | \u001b[36mcle.loader\u001b[0m | \u001b[36mThe main binary is a position-independent executable. It is being loaded with a base address of 0x400000.\u001b[0m\n"
     ]
    },
    {
     "name": "stdout",
     "output_type": "stream",
     "text": [
      "b'ehcvxtqfs29fMcB6'\n"
     ]
    },
    {
     "name": "stderr",
     "output_type": "stream",
     "text": [
      "WARNING | 2021-10-26 03:23:37,549 | \u001b[36mcle.loader\u001b[0m | \u001b[36mThe main binary is a position-independent executable. It is being loaded with a base address of 0x400000.\u001b[0m\n"
     ]
    },
    {
     "name": "stdout",
     "output_type": "stream",
     "text": [
      "b'VGwjDzI9dXdHnRV0'\n"
     ]
    },
    {
     "name": "stderr",
     "output_type": "stream",
     "text": [
      "WARNING | 2021-10-26 03:23:46,020 | \u001b[36mcle.loader\u001b[0m | \u001b[36mThe main binary is a position-independent executable. It is being loaded with a base address of 0x400000.\u001b[0m\n"
     ]
    },
    {
     "name": "stdout",
     "output_type": "stream",
     "text": [
      "b'WwRViemMpvt6Y1Ld'\n"
     ]
    },
    {
     "name": "stderr",
     "output_type": "stream",
     "text": [
      "WARNING | 2021-10-26 03:23:56,176 | \u001b[36mcle.loader\u001b[0m | \u001b[36mThe main binary is a position-independent executable. It is being loaded with a base address of 0x400000.\u001b[0m\n"
     ]
    },
    {
     "name": "stdout",
     "output_type": "stream",
     "text": [
      "b'2CJsRXSQD9CQZ6az'\n"
     ]
    },
    {
     "name": "stderr",
     "output_type": "stream",
     "text": [
      "WARNING | 2021-10-26 03:24:02,366 | \u001b[36mcle.loader\u001b[0m | \u001b[36mThe main binary is a position-independent executable. It is being loaded with a base address of 0x400000.\u001b[0m\n"
     ]
    },
    {
     "name": "stdout",
     "output_type": "stream",
     "text": [
      "b'WBlhG5wks381Pyiq'\n"
     ]
    },
    {
     "name": "stderr",
     "output_type": "stream",
     "text": [
      "WARNING | 2021-10-26 03:24:13,216 | \u001b[36mcle.loader\u001b[0m | \u001b[36mThe main binary is a position-independent executable. It is being loaded with a base address of 0x400000.\u001b[0m\n"
     ]
    },
    {
     "name": "stdout",
     "output_type": "stream",
     "text": [
      "b'qiusTd1hOyS53bPO'\n"
     ]
    },
    {
     "name": "stderr",
     "output_type": "stream",
     "text": [
      "WARNING | 2021-10-26 03:24:21,202 | \u001b[36mcle.loader\u001b[0m | \u001b[36mThe main binary is a position-independent executable. It is being loaded with a base address of 0x400000.\u001b[0m\n"
     ]
    },
    {
     "name": "stdout",
     "output_type": "stream",
     "text": [
      "b'BzHmXBcJkSNl8WGe'\n",
      "b'OuBMgcSDCEvJJzVF'\n"
     ]
    },
    {
     "data": {
      "text/plain": [
       "[b'9jM4ScT6QJB5a6gB',\n",
       " b'NybuoPZYF4hshd3W',\n",
       " b'Tc2xxTr5RBDMeJKW',\n",
       " b'K4ndcjWaz4p7zvKM',\n",
       " b'tKisqhBoqkUuS8uf',\n",
       " b'iMib9Ua3C6g43xg7',\n",
       " b'JwhyvToNpkx7QhsF',\n",
       " b'ehcvxtqfs29fMcB6',\n",
       " b'VGwjDzI9dXdHnRV0',\n",
       " b'WwRViemMpvt6Y1Ld',\n",
       " b'2CJsRXSQD9CQZ6az',\n",
       " b'WBlhG5wks381Pyiq',\n",
       " b'qiusTd1hOyS53bPO',\n",
       " b'BzHmXBcJkSNl8WGe',\n",
       " b'OuBMgcSDCEvJJzVF']"
      ]
     },
     "execution_count": 4,
     "metadata": {},
     "output_type": "execute_result"
    }
   ],
   "source": [
    "results = []\n",
    "for i in range(1,16):\n",
    "    key = solve(f'level1/{i}.bin')\n",
    "    print(key)\n",
    "    results.append(key)\n",
    "\n",
    "results\n"
   ]
  }
 ],
 "metadata": {
  "interpreter": {
   "hash": "251c60e6eb6683ae447329cc3c2f4d94f9d2cfcdb044bd011ebc2666472da39f"
  },
  "kernelspec": {
   "display_name": "Python 3.8.12 64-bit ('base': conda)",
   "name": "python3"
  },
  "language_info": {
   "codemirror_mode": {
    "name": "ipython",
    "version": 3
   },
   "file_extension": ".py",
   "mimetype": "text/x-python",
   "name": "python",
   "nbconvert_exporter": "python",
   "pygments_lexer": "ipython3",
   "version": "3.8.12"
  },
  "orig_nbformat": 4
 },
 "nbformat": 4,
 "nbformat_minor": 2
}
